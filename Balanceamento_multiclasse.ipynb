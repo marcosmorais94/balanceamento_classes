{
 "cells": [
  {
   "cell_type": "markdown",
   "id": "582e4e6e",
   "metadata": {},
   "source": [
    "# Código para Balanceamento de Multiclasse"
   ]
  },
  {
   "cell_type": "markdown",
   "id": "74e2ac0b",
   "metadata": {},
   "source": [
    "Este script em Python tem como objetivo compartilhar o passo a passo para o balanceamento de multiclasse em problemas de classificação.\n",
    "\n",
    "Nem sempre temos apenas duas classes para balancear, na verdade na maioria dos problemas do dia a dia são mais de duas classes. A técnica para balancear duas classes é conhecida, mas nem sempre resolve o problema nesses casos. Por isso aqui nesse script vamos aplicar uma fórmula para balancear mais de duas classes no dataset. Dessa forma é possível aplicar algoritmos de classificação para análise preditivas.\n",
    "\n",
    "É um dos passos mais importantes porque garante que o modelo preditvo tenha um treino adequado, lembre-se que o aprendizado de máquina é muito parecido com o humano porque o algoritmo precisa ser exposto aos exemplos de maneira igual. Por exemplo, imagine uma criança que está aprendendo a identificar frutas, óbvio que aquele tipo de fruta que ela mais ver será a que ela vai identificar mais rápido. O algoritmo funciona de uma maneira muito parecida.\n",
    "\n",
    "Compartilho algumas linhas de código para balanceamento multiclasse. \n",
    "\n",
    "Esse código tem como fonte a dica valiosa da Angelica do Luca, segue link abaixo:\n",
    "https://towardsdatascience.com/how-to-deal-with-imbalanced-multiclass-datasets-in-python-fe0bb3f2b669\n",
    "\n",
    "Fique à vontade para sugerir mudanças no código."
   ]
  },
  {
   "cell_type": "markdown",
   "id": "780ea1b5",
   "metadata": {},
   "source": [
    "# 1 - Carga dos Pacotes"
   ]
  },
  {
   "cell_type": "code",
   "execution_count": 1,
   "id": "86e8315d",
   "metadata": {},
   "outputs": [],
   "source": [
    "# carregando os pacotes e removendo os avisos\n",
    "import numpy as np\n",
    "import pandas as pd\n",
    "import seaborn as sns\n",
    "import matplotlib.pyplot as plt\n",
    "from imblearn.over_sampling import SMOTE\n",
    "from sklearn.model_selection import train_test_split\n",
    "from imblearn.under_sampling import ClusterCentroids\n",
    "import warnings\n",
    "warnings.filterwarnings('ignore')\n",
    "\n",
    "%matplotlib inline"
   ]
  },
  {
   "cell_type": "code",
   "execution_count": 2,
   "id": "82c372a6",
   "metadata": {},
   "outputs": [
    {
     "name": "stdout",
     "output_type": "stream",
     "text": [
      "Author: Balanceamento Multiclasse\n",
      "\n",
      "seaborn   : 0.12.1\n",
      "numpy     : 1.23.5\n",
      "pandas    : 1.5.2\n",
      "matplotlib: 3.6.2\n",
      "\n"
     ]
    }
   ],
   "source": [
    "# Versões dos pacotes usados neste jupyter notebook\n",
    "%reload_ext watermark\n",
    "%watermark -a \"Balanceamento Multiclasse\" --iversions"
   ]
  },
  {
   "cell_type": "markdown",
   "id": "beeb13c7",
   "metadata": {},
   "source": [
    "# 2 - Carga dos Dados"
   ]
  },
  {
   "cell_type": "markdown",
   "id": "9ca10db6",
   "metadata": {},
   "source": [
    "A fonte de dados utilizada será o dataset com dados de qualidade relacionado a produção de vinho português.\n",
    "\n",
    "Fonte do dataset: https://archive.ics.uci.edu/ml/datasets/wine+Quality"
   ]
  },
  {
   "cell_type": "code",
   "execution_count": 3,
   "id": "f1b6d28f",
   "metadata": {},
   "outputs": [
    {
     "name": "stdout",
     "output_type": "stream",
     "text": [
      "O número de linhas e colunas do bd_red é:  (1599, 12)\n",
      "O número de linhas e colunas do bd_white é:  (4898, 12)\n"
     ]
    }
   ],
   "source": [
    "# Carregando o dataset para o balanceamento\n",
    "df_red = pd.read_csv('C:/python_scripts/balanceamento_classes/dados/winequality-red.csv', sep = ';')\n",
    "df_white = pd.read_csv('C:/python_scripts/balanceamento_classes/dados/winequality-white.csv', sep = ';')\n",
    "\n",
    "print('O número de linhas e colunas do bd_red é: ', df_red.shape)\n",
    "print('O número de linhas e colunas do bd_white é: ', df_white.shape)"
   ]
  },
  {
   "cell_type": "code",
   "execution_count": 4,
   "id": "0b3d141c",
   "metadata": {},
   "outputs": [
    {
     "name": "stdout",
     "output_type": "stream",
     "text": [
      "O número de linhas e colunas do dataset total é:  (6497, 12)\n"
     ]
    }
   ],
   "source": [
    "# União do dataset em um só\n",
    "df = df_red.append(df_white)\n",
    "print('O número de linhas e colunas do dataset total é: ', df.shape)"
   ]
  },
  {
   "cell_type": "code",
   "execution_count": 5,
   "id": "a187faae",
   "metadata": {},
   "outputs": [
    {
     "data": {
      "text/html": [
       "<div>\n",
       "<style scoped>\n",
       "    .dataframe tbody tr th:only-of-type {\n",
       "        vertical-align: middle;\n",
       "    }\n",
       "\n",
       "    .dataframe tbody tr th {\n",
       "        vertical-align: top;\n",
       "    }\n",
       "\n",
       "    .dataframe thead th {\n",
       "        text-align: right;\n",
       "    }\n",
       "</style>\n",
       "<table border=\"1\" class=\"dataframe\">\n",
       "  <thead>\n",
       "    <tr style=\"text-align: right;\">\n",
       "      <th></th>\n",
       "      <th>fixed acidity</th>\n",
       "      <th>volatile acidity</th>\n",
       "      <th>citric acid</th>\n",
       "      <th>residual sugar</th>\n",
       "      <th>chlorides</th>\n",
       "      <th>free sulfur dioxide</th>\n",
       "      <th>total sulfur dioxide</th>\n",
       "      <th>density</th>\n",
       "      <th>pH</th>\n",
       "      <th>sulphates</th>\n",
       "      <th>alcohol</th>\n",
       "      <th>quality</th>\n",
       "    </tr>\n",
       "  </thead>\n",
       "  <tbody>\n",
       "    <tr>\n",
       "      <th>0</th>\n",
       "      <td>7.4</td>\n",
       "      <td>0.70</td>\n",
       "      <td>0.00</td>\n",
       "      <td>1.9</td>\n",
       "      <td>0.076</td>\n",
       "      <td>11.0</td>\n",
       "      <td>34.0</td>\n",
       "      <td>0.9978</td>\n",
       "      <td>3.51</td>\n",
       "      <td>0.56</td>\n",
       "      <td>9.4</td>\n",
       "      <td>5</td>\n",
       "    </tr>\n",
       "    <tr>\n",
       "      <th>1</th>\n",
       "      <td>7.8</td>\n",
       "      <td>0.88</td>\n",
       "      <td>0.00</td>\n",
       "      <td>2.6</td>\n",
       "      <td>0.098</td>\n",
       "      <td>25.0</td>\n",
       "      <td>67.0</td>\n",
       "      <td>0.9968</td>\n",
       "      <td>3.20</td>\n",
       "      <td>0.68</td>\n",
       "      <td>9.8</td>\n",
       "      <td>5</td>\n",
       "    </tr>\n",
       "    <tr>\n",
       "      <th>2</th>\n",
       "      <td>7.8</td>\n",
       "      <td>0.76</td>\n",
       "      <td>0.04</td>\n",
       "      <td>2.3</td>\n",
       "      <td>0.092</td>\n",
       "      <td>15.0</td>\n",
       "      <td>54.0</td>\n",
       "      <td>0.9970</td>\n",
       "      <td>3.26</td>\n",
       "      <td>0.65</td>\n",
       "      <td>9.8</td>\n",
       "      <td>5</td>\n",
       "    </tr>\n",
       "    <tr>\n",
       "      <th>3</th>\n",
       "      <td>11.2</td>\n",
       "      <td>0.28</td>\n",
       "      <td>0.56</td>\n",
       "      <td>1.9</td>\n",
       "      <td>0.075</td>\n",
       "      <td>17.0</td>\n",
       "      <td>60.0</td>\n",
       "      <td>0.9980</td>\n",
       "      <td>3.16</td>\n",
       "      <td>0.58</td>\n",
       "      <td>9.8</td>\n",
       "      <td>6</td>\n",
       "    </tr>\n",
       "    <tr>\n",
       "      <th>4</th>\n",
       "      <td>7.4</td>\n",
       "      <td>0.70</td>\n",
       "      <td>0.00</td>\n",
       "      <td>1.9</td>\n",
       "      <td>0.076</td>\n",
       "      <td>11.0</td>\n",
       "      <td>34.0</td>\n",
       "      <td>0.9978</td>\n",
       "      <td>3.51</td>\n",
       "      <td>0.56</td>\n",
       "      <td>9.4</td>\n",
       "      <td>5</td>\n",
       "    </tr>\n",
       "  </tbody>\n",
       "</table>\n",
       "</div>"
      ],
      "text/plain": [
       "   fixed acidity  volatile acidity  citric acid  residual sugar  chlorides  \\\n",
       "0            7.4              0.70         0.00             1.9      0.076   \n",
       "1            7.8              0.88         0.00             2.6      0.098   \n",
       "2            7.8              0.76         0.04             2.3      0.092   \n",
       "3           11.2              0.28         0.56             1.9      0.075   \n",
       "4            7.4              0.70         0.00             1.9      0.076   \n",
       "\n",
       "   free sulfur dioxide  total sulfur dioxide  density    pH  sulphates  \\\n",
       "0                 11.0                  34.0   0.9978  3.51       0.56   \n",
       "1                 25.0                  67.0   0.9968  3.20       0.68   \n",
       "2                 15.0                  54.0   0.9970  3.26       0.65   \n",
       "3                 17.0                  60.0   0.9980  3.16       0.58   \n",
       "4                 11.0                  34.0   0.9978  3.51       0.56   \n",
       "\n",
       "   alcohol  quality  \n",
       "0      9.4        5  \n",
       "1      9.8        5  \n",
       "2      9.8        5  \n",
       "3      9.8        6  \n",
       "4      9.4        5  "
      ]
     },
     "execution_count": 5,
     "metadata": {},
     "output_type": "execute_result"
    }
   ],
   "source": [
    "# Mostra as 5 primeiras linhas do dataset\n",
    "df.head()"
   ]
  },
  {
   "cell_type": "markdown",
   "id": "baf4fe72",
   "metadata": {},
   "source": [
    "# 3 - Análise dos dados "
   ]
  },
  {
   "cell_type": "code",
   "execution_count": 6,
   "id": "a06262a8",
   "metadata": {},
   "outputs": [
    {
     "data": {
      "text/plain": [
       "(6497, 12)"
      ]
     },
     "execution_count": 6,
     "metadata": {},
     "output_type": "execute_result"
    }
   ],
   "source": [
    "# Confere o número de linhas e colunas do dataset\n",
    "df.shape"
   ]
  },
  {
   "cell_type": "code",
   "execution_count": 7,
   "id": "93fed95b",
   "metadata": {},
   "outputs": [
    {
     "data": {
      "text/plain": [
       "pandas.core.frame.DataFrame"
      ]
     },
     "execution_count": 7,
     "metadata": {},
     "output_type": "execute_result"
    }
   ],
   "source": [
    "# Confere o tipo de objeto, no caso um dataframe do pandas\n",
    "type(df)"
   ]
  },
  {
   "cell_type": "code",
   "execution_count": 8,
   "id": "0ba81d9e",
   "metadata": {},
   "outputs": [
    {
     "data": {
      "text/plain": [
       "fixed acidity           float64\n",
       "volatile acidity        float64\n",
       "citric acid             float64\n",
       "residual sugar          float64\n",
       "chlorides               float64\n",
       "free sulfur dioxide     float64\n",
       "total sulfur dioxide    float64\n",
       "density                 float64\n",
       "pH                      float64\n",
       "sulphates               float64\n",
       "alcohol                 float64\n",
       "quality                   int64\n",
       "dtype: object"
      ]
     },
     "execution_count": 8,
     "metadata": {},
     "output_type": "execute_result"
    }
   ],
   "source": [
    "# Confere os tipos de dados, seja string ou número por exemplo. \n",
    "# Lembrando que apenas conseguimos fazer o balanceamento com variáveis númericas. Usar variáveis dummy para tipo string.\n",
    "\n",
    "df.dtypes"
   ]
  },
  {
   "cell_type": "code",
   "execution_count": 9,
   "id": "7fb38950",
   "metadata": {},
   "outputs": [
    {
     "data": {
      "text/plain": [
       "<bound method Series.unique of 0       5\n",
       "1       5\n",
       "2       5\n",
       "3       6\n",
       "4       5\n",
       "       ..\n",
       "4893    6\n",
       "4894    5\n",
       "4895    6\n",
       "4896    7\n",
       "4897    6\n",
       "Name: quality, Length: 6497, dtype: int64>"
      ]
     },
     "execution_count": 9,
     "metadata": {},
     "output_type": "execute_result"
    }
   ],
   "source": [
    "df['quality'].unique"
   ]
  },
  {
   "cell_type": "markdown",
   "id": "7ce3b782",
   "metadata": {},
   "source": [
    "# 4 - Dados antes do Balanceamento"
   ]
  },
  {
   "cell_type": "code",
   "execution_count": 10,
   "id": "b7816c42",
   "metadata": {},
   "outputs": [
    {
     "name": "stdout",
     "output_type": "stream",
     "text": [
      "O total de registros é: 6497\n",
      "Total de Registros com nota 3 é igual a 30 que representa 0.5 %\n",
      "Total de Registros com nota 4 é igual a 216 que representa 3.3 %\n",
      "Total de Registros com nota 5 é igual a 2138 que representa 32.9 %\n",
      "Total de Registros com nota 6 é igual a 2836 que representa 43.7 %\n",
      "Total de Registros com nota 7 é igual a 1079 que representa 16.6 %\n",
      "Total de Registros com nota 8 é igual a 193 que representa 3.0 %\n",
      "Total de Registros com nota 9 é igual a 5 que representa 0.1 %\n"
     ]
    },
    {
     "data": {
      "image/png": "[encoded data removed]",
      "text/plain": [
       "<Figure size 640x480 with 1 Axes>"
      ]
     },
     "metadata": {},
     "output_type": "display_data"
    }
   ],
   "source": [
    "# Gráfico com a contagem de registros para cada classe.\n",
    "# Um número ideal é em torno de 45% e 55% no máximo para cada classe.\n",
    "# Fora desse range, o ideal é balancear o dataset.\n",
    "\n",
    "# Cria plot e amarzena na variável graf_class\n",
    "graf_class = sns.countplot(x = 'quality', data = df, palette = 'PuBu')\n",
    "\n",
    "# Ajuste dos eixos X, Y e Título\n",
    "graf_class.set_xlabel('Nota da Qualidade do Vinho')\n",
    "graf_class.set_ylabel('Contagem de Registros')\n",
    "graf_class.set_title('Distribuição de Classes')\n",
    "\n",
    "# Variável para contar os valores de cada classe\n",
    "class_table = df['quality'].value_counts()\n",
    "\n",
    "# Print do total de registros e bem como do percentual que cada classe representa\n",
    "print('O total de registros é:', class_table.sum())\n",
    "print('Total de Registros com nota 3 é igual a', class_table[3].sum(), 'que representa', round((class_table[3]/class_table.sum())*100,1),\"%\")\n",
    "print('Total de Registros com nota 4 é igual a', class_table[4].sum(), 'que representa', round((class_table[4]/class_table.sum())*100,1),\"%\")\n",
    "print('Total de Registros com nota 5 é igual a', class_table[5].sum(), 'que representa', round((class_table[5]/class_table.sum())*100,1),\"%\")\n",
    "print('Total de Registros com nota 6 é igual a', class_table[6].sum(), 'que representa', round((class_table[6]/class_table.sum())*100,1),\"%\")\n",
    "print('Total de Registros com nota 7 é igual a', class_table[7].sum(), 'que representa', round((class_table[7]/class_table.sum())*100,1),\"%\")\n",
    "print('Total de Registros com nota 8 é igual a', class_table[8].sum(), 'que representa', round((class_table[8]/class_table.sum())*100,1),\"%\")\n",
    "print('Total de Registros com nota 9 é igual a', class_table[9].sum(), 'que representa', round((class_table[9]/class_table.sum())*100,1),\"%\")"
   ]
  },
  {
   "cell_type": "markdown",
   "id": "5744ab5c",
   "metadata": {},
   "source": [
    "Aqui vemos que o dataset está totalmente desbalanceado e isso pode prejudicar muito o treino do modelo preditivo, ou seja, o modelo pode \"aprender\" muito mais um classe do que outra. Isso tende a aumentar o erro em um classe, nesse caso com valores  = 6, e errar muito menos a outra classe, com valores = 8 por exemplo.\n",
    "\n",
    "Por isso o balanceamento é uma técnica importante em determinados momentos para garantir o resultado final mais generalista possível."
   ]
  },
  {
   "cell_type": "markdown",
   "id": "ae25b74f",
   "metadata": {},
   "source": [
    "# 5 - Balanceamento de Classes"
   ]
  },
  {
   "cell_type": "markdown",
   "id": "0c0ceff3",
   "metadata": {},
   "source": [
    "## 5.1 - Separa as variáveis em treino e teste"
   ]
  },
  {
   "cell_type": "code",
   "execution_count": 11,
   "id": "70f92281",
   "metadata": {},
   "outputs": [],
   "source": [
    "# Separa a variáveis entre target(y) e preditoras(x)\n",
    "features = []\n",
    "for feature in df.columns:\n",
    "    if feature != 'quality':\n",
    "        features.append(feature)\n",
    "X = df[features]\n",
    "y = df['quality']"
   ]
  },
  {
   "cell_type": "code",
   "execution_count": 12,
   "id": "e2cdb28a",
   "metadata": {},
   "outputs": [],
   "source": [
    "# Separa o dataset em treino e teste\n",
    "# Amostra de 20% para teste do total de dados\n",
    "X_train, X_test, y_train, y_test = train_test_split(X, y, test_size=0.2, random_state=100)"
   ]
  },
  {
   "cell_type": "markdown",
   "id": "474675f8",
   "metadata": {},
   "source": [
    "## 5.2 - Define variáveis e função do balaceamento multiclasse"
   ]
  },
  {
   "cell_type": "code",
   "execution_count": 13,
   "id": "99e5ec3c",
   "metadata": {},
   "outputs": [
    {
     "data": {
      "text/plain": [
       "6    2234\n",
       "5    1726\n",
       "7     879\n",
       "4     174\n",
       "8     156\n",
       "3      25\n",
       "9       3\n",
       "Name: quality, dtype: int64"
      ]
     },
     "execution_count": 13,
     "metadata": {},
     "output_type": "execute_result"
    }
   ],
   "source": [
    "# Conta os valores de cada classe\n",
    "count = y_train.value_counts()\n",
    "count"
   ]
  },
  {
   "cell_type": "code",
   "execution_count": 14,
   "id": "10f7aec8",
   "metadata": {},
   "outputs": [
    {
     "data": {
      "text/plain": [
       "174"
      ]
     },
     "execution_count": 14,
     "metadata": {},
     "output_type": "execute_result"
    }
   ],
   "source": [
    "# Cálcula o número de amostras que serão criadas para cada classe\n",
    "n_samples = count.median().astype(np.int64)\n",
    "n_samples"
   ]
  },
  {
   "cell_type": "markdown",
   "id": "0122e21b",
   "metadata": {},
   "source": [
    "Na próxima célula será criada uma função própria para auxiliar o balacemento. \n",
    "A função recebe o dataset, o número de amostras (n_samples) e as classes (majority e minority). A função retorna um objeto dict que contém o número de amostras necessárias para o balanceamento de cada classe."
   ]
  },
  {
   "cell_type": "code",
   "execution_count": 15,
   "id": "91c08419",
   "metadata": {},
   "outputs": [],
   "source": [
    "def sampling_strategy(X,y,n_samples, t='majority'):\n",
    "    target_classes = ''\n",
    "    if t == 'majority':\n",
    "        target_classes = y.value_counts() > n_samples\n",
    "    elif t == 'minority':\n",
    "        target_classes = y.value_counts() < n_samples\n",
    "    tc = target_classes[target_classes == True].index\n",
    "    #target_classes_all = y.value_counts().index\n",
    "    sampling_strategy = {}\n",
    "    for target in tc:\n",
    "        sampling_strategy[target] = n_samples\n",
    "    return sampling_strategy"
   ]
  },
  {
   "cell_type": "code",
   "execution_count": 16,
   "id": "30207acb",
   "metadata": {},
   "outputs": [
    {
     "data": {
      "image/png": "[encoded data removed]",
      "text/plain": [
       "<Figure size 640x480 with 1 Axes>"
      ]
     },
     "metadata": {},
     "output_type": "display_data"
    }
   ],
   "source": [
    "# Gráfico antes do balanceamento\n",
    "count.plot.bar()\n",
    "plt.title('Valores antes do balanceamento de classe')\n",
    "plt.ylabel('Registros')\n",
    "plt.xlabel('Classe Quality')\n",
    "plt.show()"
   ]
  },
  {
   "cell_type": "markdown",
   "id": "72d4c58a",
   "metadata": {},
   "source": [
    "## 5.3 - Undersampling da amostra"
   ]
  },
  {
   "cell_type": "markdown",
   "id": "01b14726",
   "metadata": {},
   "source": [
    "Agora vamos realizar o undersampling, ou seja, as classes com maiores registros serão reduzidas com base no número de registros ideal que no nosso exemplo é o valor de n_samples (174)."
   ]
  },
  {
   "cell_type": "code",
   "execution_count": 17,
   "id": "a51b52d1",
   "metadata": {},
   "outputs": [],
   "source": [
    "# Realizar under_sample nas classes com maior número de registros\n",
    "under_sampler = ClusterCentroids(sampling_strategy=sampling_strategy(X_train,y_train,n_samples,t='majority'))\n",
    "X_under, y_under = under_sampler.fit_resample(X_train, y_train)"
   ]
  },
  {
   "cell_type": "code",
   "execution_count": 18,
   "id": "94fea21a",
   "metadata": {},
   "outputs": [
    {
     "data": {
      "text/plain": [
       "4    174\n",
       "5    174\n",
       "6    174\n",
       "7    174\n",
       "8    156\n",
       "3     25\n",
       "9      3\n",
       "Name: quality, dtype: int64"
      ]
     },
     "execution_count": 18,
     "metadata": {},
     "output_type": "execute_result"
    }
   ],
   "source": [
    "# Conta os valores de cada classe após o undersampling\n",
    "count_under = y_under.value_counts()\n",
    "count_under"
   ]
  },
  {
   "cell_type": "code",
   "execution_count": 19,
   "id": "8b111b58",
   "metadata": {},
   "outputs": [
    {
     "data": {
      "image/png": "[encoded data removed]",
      "text/plain": [
       "<Figure size 640x480 with 1 Axes>"
      ]
     },
     "metadata": {},
     "output_type": "display_data"
    }
   ],
   "source": [
    "# Gráfico após o undersampling  das classes\n",
    "count_under.plot.bar()\n",
    "plt.title('Valores após o undersampling de classe')\n",
    "plt.ylabel('Registros')\n",
    "plt.xlabel('Classe Quality')\n",
    "plt.show()"
   ]
  },
  {
   "cell_type": "markdown",
   "id": "97e46633",
   "metadata": {},
   "source": [
    "## 5.4 - Oversampling da amostra"
   ]
  },
  {
   "cell_type": "code",
   "execution_count": 20,
   "id": "e372a6a7",
   "metadata": {},
   "outputs": [],
   "source": [
    "# cria oversample nas classes com maior número de registros\n",
    "over_sampler = SMOTE(sampling_strategy=sampling_strategy(X_under, y_under,n_samples, t='minority'),k_neighbors=2)\n",
    "X_bal, y_bal = over_sampler.fit_resample(X_under, y_under)"
   ]
  },
  {
   "cell_type": "code",
   "execution_count": 21,
   "id": "a996ea40",
   "metadata": {},
   "outputs": [
    {
     "data": {
      "text/plain": [
       "3    174\n",
       "4    174\n",
       "5    174\n",
       "6    174\n",
       "7    174\n",
       "8    174\n",
       "9    174\n",
       "Name: quality, dtype: int64"
      ]
     },
     "execution_count": 21,
     "metadata": {},
     "output_type": "execute_result"
    }
   ],
   "source": [
    "# Conta os valores de cada classe após o undersampling\n",
    "count_over = y_bal.value_counts()\n",
    "count_over"
   ]
  },
  {
   "cell_type": "code",
   "execution_count": 22,
   "id": "96417d4e",
   "metadata": {},
   "outputs": [
    {
     "data": {
      "image/png": "[encoded data removed]",
      "text/plain": [
       "<Figure size 640x480 with 1 Axes>"
      ]
     },
     "metadata": {},
     "output_type": "display_data"
    }
   ],
   "source": [
    "# Gráfico após o oversampling  das classes\n",
    "count_over.plot.bar()\n",
    "plt.title('Valores após o oversampling de classe')\n",
    "plt.ylabel('Registros')\n",
    "plt.xlabel('Classe Quality')\n",
    "plt.show()"
   ]
  },
  {
   "cell_type": "code",
   "execution_count": 23,
   "id": "dd1a1836",
   "metadata": {},
   "outputs": [
    {
     "data": {
      "text/html": [
       "<div>\n",
       "<style scoped>\n",
       "    .dataframe tbody tr th:only-of-type {\n",
       "        vertical-align: middle;\n",
       "    }\n",
       "\n",
       "    .dataframe tbody tr th {\n",
       "        vertical-align: top;\n",
       "    }\n",
       "\n",
       "    .dataframe thead th {\n",
       "        text-align: right;\n",
       "    }\n",
       "</style>\n",
       "<table border=\"1\" class=\"dataframe\">\n",
       "  <thead>\n",
       "    <tr style=\"text-align: right;\">\n",
       "      <th></th>\n",
       "      <th>0</th>\n",
       "      <th>1</th>\n",
       "      <th>2</th>\n",
       "      <th>3</th>\n",
       "      <th>4</th>\n",
       "      <th>5</th>\n",
       "      <th>6</th>\n",
       "      <th>7</th>\n",
       "      <th>8</th>\n",
       "      <th>9</th>\n",
       "      <th>10</th>\n",
       "      <th>11</th>\n",
       "    </tr>\n",
       "  </thead>\n",
       "  <tbody>\n",
       "    <tr>\n",
       "      <th>0</th>\n",
       "      <td>7.100000</td>\n",
       "      <td>0.490000</td>\n",
       "      <td>0.220000</td>\n",
       "      <td>2.000000</td>\n",
       "      <td>0.047000</td>\n",
       "      <td>146.500000</td>\n",
       "      <td>307.500000</td>\n",
       "      <td>0.992400</td>\n",
       "      <td>3.240000</td>\n",
       "      <td>0.370000</td>\n",
       "      <td>11.000000</td>\n",
       "      <td>3</td>\n",
       "    </tr>\n",
       "    <tr>\n",
       "      <th>1</th>\n",
       "      <td>6.700000</td>\n",
       "      <td>0.760000</td>\n",
       "      <td>0.020000</td>\n",
       "      <td>1.800000</td>\n",
       "      <td>0.078000</td>\n",
       "      <td>6.000000</td>\n",
       "      <td>12.000000</td>\n",
       "      <td>0.996000</td>\n",
       "      <td>3.550000</td>\n",
       "      <td>0.630000</td>\n",
       "      <td>9.950000</td>\n",
       "      <td>3</td>\n",
       "    </tr>\n",
       "    <tr>\n",
       "      <th>2</th>\n",
       "      <td>11.600000</td>\n",
       "      <td>0.580000</td>\n",
       "      <td>0.660000</td>\n",
       "      <td>2.200000</td>\n",
       "      <td>0.074000</td>\n",
       "      <td>10.000000</td>\n",
       "      <td>47.000000</td>\n",
       "      <td>1.000800</td>\n",
       "      <td>3.250000</td>\n",
       "      <td>0.570000</td>\n",
       "      <td>9.000000</td>\n",
       "      <td>3</td>\n",
       "    </tr>\n",
       "    <tr>\n",
       "      <th>3</th>\n",
       "      <td>7.300000</td>\n",
       "      <td>0.980000</td>\n",
       "      <td>0.050000</td>\n",
       "      <td>2.100000</td>\n",
       "      <td>0.061000</td>\n",
       "      <td>20.000000</td>\n",
       "      <td>49.000000</td>\n",
       "      <td>0.997050</td>\n",
       "      <td>3.310000</td>\n",
       "      <td>0.550000</td>\n",
       "      <td>9.700000</td>\n",
       "      <td>3</td>\n",
       "    </tr>\n",
       "    <tr>\n",
       "      <th>4</th>\n",
       "      <td>8.500000</td>\n",
       "      <td>0.260000</td>\n",
       "      <td>0.210000</td>\n",
       "      <td>16.200000</td>\n",
       "      <td>0.074000</td>\n",
       "      <td>41.000000</td>\n",
       "      <td>197.000000</td>\n",
       "      <td>0.998000</td>\n",
       "      <td>3.020000</td>\n",
       "      <td>0.500000</td>\n",
       "      <td>9.800000</td>\n",
       "      <td>3</td>\n",
       "    </tr>\n",
       "    <tr>\n",
       "      <th>...</th>\n",
       "      <td>...</td>\n",
       "      <td>...</td>\n",
       "      <td>...</td>\n",
       "      <td>...</td>\n",
       "      <td>...</td>\n",
       "      <td>...</td>\n",
       "      <td>...</td>\n",
       "      <td>...</td>\n",
       "      <td>...</td>\n",
       "      <td>...</td>\n",
       "      <td>...</td>\n",
       "      <td>...</td>\n",
       "    </tr>\n",
       "    <tr>\n",
       "      <th>1213</th>\n",
       "      <td>7.001168</td>\n",
       "      <td>0.309416</td>\n",
       "      <td>0.415876</td>\n",
       "      <td>3.188318</td>\n",
       "      <td>0.025082</td>\n",
       "      <td>43.848136</td>\n",
       "      <td>115.964954</td>\n",
       "      <td>0.990053</td>\n",
       "      <td>3.325526</td>\n",
       "      <td>0.390350</td>\n",
       "      <td>12.801168</td>\n",
       "      <td>9</td>\n",
       "    </tr>\n",
       "    <tr>\n",
       "      <th>1214</th>\n",
       "      <td>8.847134</td>\n",
       "      <td>0.268736</td>\n",
       "      <td>0.455057</td>\n",
       "      <td>9.537961</td>\n",
       "      <td>0.034621</td>\n",
       "      <td>28.379300</td>\n",
       "      <td>122.609234</td>\n",
       "      <td>0.996153</td>\n",
       "      <td>3.221494</td>\n",
       "      <td>0.454943</td>\n",
       "      <td>10.716083</td>\n",
       "      <td>9</td>\n",
       "    </tr>\n",
       "    <tr>\n",
       "      <th>1215</th>\n",
       "      <td>7.069634</td>\n",
       "      <td>0.275183</td>\n",
       "      <td>0.467225</td>\n",
       "      <td>2.503661</td>\n",
       "      <td>0.029874</td>\n",
       "      <td>34.947592</td>\n",
       "      <td>113.910983</td>\n",
       "      <td>0.990224</td>\n",
       "      <td>3.356335</td>\n",
       "      <td>0.410890</td>\n",
       "      <td>12.869634</td>\n",
       "      <td>9</td>\n",
       "    </tr>\n",
       "    <tr>\n",
       "      <th>1216</th>\n",
       "      <td>8.983800</td>\n",
       "      <td>0.269419</td>\n",
       "      <td>0.452324</td>\n",
       "      <td>10.111960</td>\n",
       "      <td>0.034826</td>\n",
       "      <td>28.174300</td>\n",
       "      <td>123.360900</td>\n",
       "      <td>0.996611</td>\n",
       "      <td>3.209877</td>\n",
       "      <td>0.457676</td>\n",
       "      <td>10.545250</td>\n",
       "      <td>9</td>\n",
       "    </tr>\n",
       "    <tr>\n",
       "      <th>1217</th>\n",
       "      <td>7.038178</td>\n",
       "      <td>0.290911</td>\n",
       "      <td>0.443634</td>\n",
       "      <td>2.818216</td>\n",
       "      <td>0.027672</td>\n",
       "      <td>39.036808</td>\n",
       "      <td>114.854648</td>\n",
       "      <td>0.990145</td>\n",
       "      <td>3.342180</td>\n",
       "      <td>0.401454</td>\n",
       "      <td>12.838178</td>\n",
       "      <td>9</td>\n",
       "    </tr>\n",
       "  </tbody>\n",
       "</table>\n",
       "<p>1218 rows × 12 columns</p>\n",
       "</div>"
      ],
      "text/plain": [
       "             0         1         2          3         4           5   \\\n",
       "0      7.100000  0.490000  0.220000   2.000000  0.047000  146.500000   \n",
       "1      6.700000  0.760000  0.020000   1.800000  0.078000    6.000000   \n",
       "2     11.600000  0.580000  0.660000   2.200000  0.074000   10.000000   \n",
       "3      7.300000  0.980000  0.050000   2.100000  0.061000   20.000000   \n",
       "4      8.500000  0.260000  0.210000  16.200000  0.074000   41.000000   \n",
       "...         ...       ...       ...        ...       ...         ...   \n",
       "1213   7.001168  0.309416  0.415876   3.188318  0.025082   43.848136   \n",
       "1214   8.847134  0.268736  0.455057   9.537961  0.034621   28.379300   \n",
       "1215   7.069634  0.275183  0.467225   2.503661  0.029874   34.947592   \n",
       "1216   8.983800  0.269419  0.452324  10.111960  0.034826   28.174300   \n",
       "1217   7.038178  0.290911  0.443634   2.818216  0.027672   39.036808   \n",
       "\n",
       "              6         7         8         9          10  11  \n",
       "0     307.500000  0.992400  3.240000  0.370000  11.000000   3  \n",
       "1      12.000000  0.996000  3.550000  0.630000   9.950000   3  \n",
       "2      47.000000  1.000800  3.250000  0.570000   9.000000   3  \n",
       "3      49.000000  0.997050  3.310000  0.550000   9.700000   3  \n",
       "4     197.000000  0.998000  3.020000  0.500000   9.800000   3  \n",
       "...          ...       ...       ...       ...        ...  ..  \n",
       "1213  115.964954  0.990053  3.325526  0.390350  12.801168   9  \n",
       "1214  122.609234  0.996153  3.221494  0.454943  10.716083   9  \n",
       "1215  113.910983  0.990224  3.356335  0.410890  12.869634   9  \n",
       "1216  123.360900  0.996611  3.209877  0.457676  10.545250   9  \n",
       "1217  114.854648  0.990145  3.342180  0.401454  12.838178   9  \n",
       "\n",
       "[1218 rows x 12 columns]"
      ]
     },
     "execution_count": 23,
     "metadata": {},
     "output_type": "execute_result"
    }
   ],
   "source": [
    "# Dataset com os dados balanceados\n",
    "df_final = pd.concat([X_bal, y_bal], axis = 1, ignore_index = True)\n",
    "df_final"
   ]
  },
  {
   "cell_type": "code",
   "execution_count": 24,
   "id": "29e34e51",
   "metadata": {},
   "outputs": [
    {
     "data": {
      "text/plain": [
       "['fixed acidity',\n",
       " 'volatile acidity',\n",
       " 'citric acid',\n",
       " 'residual sugar',\n",
       " 'chlorides',\n",
       " 'free sulfur dioxide',\n",
       " 'total sulfur dioxide',\n",
       " 'density',\n",
       " 'pH',\n",
       " 'sulphates',\n",
       " 'alcohol',\n",
       " 'quality']"
      ]
     },
     "execution_count": 24,
     "metadata": {},
     "output_type": "execute_result"
    }
   ],
   "source": [
    "# Nomes das colunas para aplicar no dataset\n",
    "# A função ignora os nomes das colunas\n",
    "nome_coluna = df.columns.values.tolist()\n",
    "nome_coluna"
   ]
  },
  {
   "cell_type": "code",
   "execution_count": 25,
   "id": "299fcb6d",
   "metadata": {},
   "outputs": [
    {
     "data": {
      "text/html": [
       "<div>\n",
       "<style scoped>\n",
       "    .dataframe tbody tr th:only-of-type {\n",
       "        vertical-align: middle;\n",
       "    }\n",
       "\n",
       "    .dataframe tbody tr th {\n",
       "        vertical-align: top;\n",
       "    }\n",
       "\n",
       "    .dataframe thead th {\n",
       "        text-align: right;\n",
       "    }\n",
       "</style>\n",
       "<table border=\"1\" class=\"dataframe\">\n",
       "  <thead>\n",
       "    <tr style=\"text-align: right;\">\n",
       "      <th></th>\n",
       "      <th>fixed acidity</th>\n",
       "      <th>volatile acidity</th>\n",
       "      <th>citric acid</th>\n",
       "      <th>residual sugar</th>\n",
       "      <th>chlorides</th>\n",
       "      <th>free sulfur dioxide</th>\n",
       "      <th>total sulfur dioxide</th>\n",
       "      <th>density</th>\n",
       "      <th>pH</th>\n",
       "      <th>sulphates</th>\n",
       "      <th>alcohol</th>\n",
       "      <th>quality</th>\n",
       "    </tr>\n",
       "  </thead>\n",
       "  <tbody>\n",
       "    <tr>\n",
       "      <th>0</th>\n",
       "      <td>7.1</td>\n",
       "      <td>0.49</td>\n",
       "      <td>0.22</td>\n",
       "      <td>2.0</td>\n",
       "      <td>0.047</td>\n",
       "      <td>146.5</td>\n",
       "      <td>307.5</td>\n",
       "      <td>0.99240</td>\n",
       "      <td>3.24</td>\n",
       "      <td>0.37</td>\n",
       "      <td>11.00</td>\n",
       "      <td>3</td>\n",
       "    </tr>\n",
       "    <tr>\n",
       "      <th>1</th>\n",
       "      <td>6.7</td>\n",
       "      <td>0.76</td>\n",
       "      <td>0.02</td>\n",
       "      <td>1.8</td>\n",
       "      <td>0.078</td>\n",
       "      <td>6.0</td>\n",
       "      <td>12.0</td>\n",
       "      <td>0.99600</td>\n",
       "      <td>3.55</td>\n",
       "      <td>0.63</td>\n",
       "      <td>9.95</td>\n",
       "      <td>3</td>\n",
       "    </tr>\n",
       "    <tr>\n",
       "      <th>2</th>\n",
       "      <td>11.6</td>\n",
       "      <td>0.58</td>\n",
       "      <td>0.66</td>\n",
       "      <td>2.2</td>\n",
       "      <td>0.074</td>\n",
       "      <td>10.0</td>\n",
       "      <td>47.0</td>\n",
       "      <td>1.00080</td>\n",
       "      <td>3.25</td>\n",
       "      <td>0.57</td>\n",
       "      <td>9.00</td>\n",
       "      <td>3</td>\n",
       "    </tr>\n",
       "    <tr>\n",
       "      <th>3</th>\n",
       "      <td>7.3</td>\n",
       "      <td>0.98</td>\n",
       "      <td>0.05</td>\n",
       "      <td>2.1</td>\n",
       "      <td>0.061</td>\n",
       "      <td>20.0</td>\n",
       "      <td>49.0</td>\n",
       "      <td>0.99705</td>\n",
       "      <td>3.31</td>\n",
       "      <td>0.55</td>\n",
       "      <td>9.70</td>\n",
       "      <td>3</td>\n",
       "    </tr>\n",
       "    <tr>\n",
       "      <th>4</th>\n",
       "      <td>8.5</td>\n",
       "      <td>0.26</td>\n",
       "      <td>0.21</td>\n",
       "      <td>16.2</td>\n",
       "      <td>0.074</td>\n",
       "      <td>41.0</td>\n",
       "      <td>197.0</td>\n",
       "      <td>0.99800</td>\n",
       "      <td>3.02</td>\n",
       "      <td>0.50</td>\n",
       "      <td>9.80</td>\n",
       "      <td>3</td>\n",
       "    </tr>\n",
       "  </tbody>\n",
       "</table>\n",
       "</div>"
      ],
      "text/plain": [
       "   fixed acidity  volatile acidity  citric acid  residual sugar  chlorides  \\\n",
       "0            7.1              0.49         0.22             2.0      0.047   \n",
       "1            6.7              0.76         0.02             1.8      0.078   \n",
       "2           11.6              0.58         0.66             2.2      0.074   \n",
       "3            7.3              0.98         0.05             2.1      0.061   \n",
       "4            8.5              0.26         0.21            16.2      0.074   \n",
       "\n",
       "   free sulfur dioxide  total sulfur dioxide  density    pH  sulphates  \\\n",
       "0                146.5                 307.5  0.99240  3.24       0.37   \n",
       "1                  6.0                  12.0  0.99600  3.55       0.63   \n",
       "2                 10.0                  47.0  1.00080  3.25       0.57   \n",
       "3                 20.0                  49.0  0.99705  3.31       0.55   \n",
       "4                 41.0                 197.0  0.99800  3.02       0.50   \n",
       "\n",
       "   alcohol  quality  \n",
       "0    11.00        3  \n",
       "1     9.95        3  \n",
       "2     9.00        3  \n",
       "3     9.70        3  \n",
       "4     9.80        3  "
      ]
     },
     "execution_count": 25,
     "metadata": {},
     "output_type": "execute_result"
    }
   ],
   "source": [
    "# Aplica o nome das colunas\n",
    "df_final.columns = nome_coluna\n",
    "\n",
    "df_final.head()"
   ]
  },
  {
   "cell_type": "markdown",
   "id": "7504c61f",
   "metadata": {},
   "source": [
    "# 6 - Dados após o Balanceamento"
   ]
  },
  {
   "cell_type": "code",
   "execution_count": 26,
   "id": "41ebd8b8",
   "metadata": {},
   "outputs": [
    {
     "name": "stdout",
     "output_type": "stream",
     "text": [
      "O total de registros é: 6497\n",
      "Total de Registros com nota 3 é igual a 174 que representa 14.3 %\n",
      "Total de Registros com nota 4 é igual a 174 que representa 14.3 %\n",
      "Total de Registros com nota 5 é igual a 174 que representa 14.3 %\n",
      "Total de Registros com nota 6 é igual a 174 que representa 14.3 %\n",
      "Total de Registros com nota 7 é igual a 174 que representa 14.3 %\n",
      "Total de Registros com nota 8 é igual a 174 que representa 14.3 %\n",
      "Total de Registros com nota 9 é igual a 174 que representa 14.3 %\n"
     ]
    },
    {
     "data": {
      "image/png": "[encoded data removed]",
      "text/plain": [
       "<Figure size 640x480 with 1 Axes>"
      ]
     },
     "metadata": {},
     "output_type": "display_data"
    }
   ],
   "source": [
    "# Gráfico com a contagem de registros para cada classe.\n",
    "# Um número ideal é em torno de 45% e 55% no máximo para cada classe.\n",
    "# Fora desse range, o ideal é balancear o dataset.\n",
    "\n",
    "# Cria plot e amarzena na variável graf_class\n",
    "graf_class2 = sns.countplot(x = 'quality', data = df_final, palette = 'PuBu')\n",
    "\n",
    "# Ajuste dos eixos X, Y e Título\n",
    "graf_class2.set_xlabel('Nota da Qualidade do Vinho')\n",
    "graf_class2.set_ylabel('Contagem de Registros')\n",
    "graf_class2.set_title('Distribuição de Classes')\n",
    "\n",
    "# Variável para contar os valores de cada classe\n",
    "class_table2 = df_final['quality'].value_counts()\n",
    "\n",
    "# Print do total de registros e bem como do percentual que cada classe representa\n",
    "print('O total de registros é:', class_table.sum())\n",
    "print('Total de Registros com nota 3 é igual a', class_table2[3].sum(), 'que representa', round((class_table2[3]/class_table2.sum())*100,1),\"%\")\n",
    "print('Total de Registros com nota 4 é igual a', class_table2[4].sum(), 'que representa', round((class_table2[4]/class_table2.sum())*100,1),\"%\")\n",
    "print('Total de Registros com nota 5 é igual a', class_table2[5].sum(), 'que representa', round((class_table2[5]/class_table2.sum())*100,1),\"%\")\n",
    "print('Total de Registros com nota 6 é igual a', class_table2[6].sum(), 'que representa', round((class_table2[6]/class_table2.sum())*100,1),\"%\")\n",
    "print('Total de Registros com nota 7 é igual a', class_table2[7].sum(), 'que representa', round((class_table2[7]/class_table2.sum())*100,1),\"%\")\n",
    "print('Total de Registros com nota 8 é igual a', class_table2[8].sum(), 'que representa', round((class_table2[8]/class_table2.sum())*100,1),\"%\")\n",
    "print('Total de Registros com nota 9 é igual a', class_table2[9].sum(), 'que representa', round((class_table2[9]/class_table2.sum())*100,1),\"%\")"
   ]
  },
  {
   "cell_type": "markdown",
   "id": "365985dc",
   "metadata": {},
   "source": [
    "Podemos ver que o dataset foi balanceado utilizado a técnica SMOTE com undersampling e oversampling. As classes com mais registros tiveram redução dos dados e as classes com menos registros tiveram input dos dados. Isso tudo com o uso do KNN no SMOTE. Dessa forma, o dataset tende a ser um pouco mais generalista do que apenas duplicar os registros. "
   ]
  },
  {
   "cell_type": "markdown",
   "id": "c6897649",
   "metadata": {},
   "source": [
    "# 7 - Exporta o Dataset Final"
   ]
  },
  {
   "cell_type": "code",
   "execution_count": 27,
   "id": "3d780181",
   "metadata": {},
   "outputs": [],
   "source": [
    "# Cria CSV no diretório\n",
    "df_final.to_csv('df_final_multiclass.csv', index = False)"
   ]
  },
  {
   "cell_type": "markdown",
   "id": "70d78377",
   "metadata": {},
   "source": [
    "Com esse script é possível balancear de maneira simples e rápida o dataset para problemas de classificação com Machine Learning. \n",
    "Lembrando que o dataset possui mais de duas classes, o que é o mais comum no dia a dia do cientista de dados. Para acessar o balanceamento de duas classes apenas, é só acessar o script balanceamento_classes.ipynb no GitHub. \n",
    "\n",
    "Segue link do repositório: https://github.com/marcosmorais94/balanceamento_classes"
   ]
  }
 ],
 "metadata": {
  "kernelspec": {
   "display_name": "Python 3 (ipykernel)",
   "language": "python",
   "name": "python3"
  },
  "language_info": {
   "codemirror_mode": {
    "name": "ipython",
    "version": 3
   },
   "file_extension": ".py",
   "mimetype": "text/x-python",
   "name": "python",
   "nbconvert_exporter": "python",
   "pygments_lexer": "ipython3",
   "version": "3.11.1"
  }
 },
 "nbformat": 4,
 "nbformat_minor": 5
}
